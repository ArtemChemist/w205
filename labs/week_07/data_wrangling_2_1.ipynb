{
 "cells": [
  {
   "cell_type": "markdown",
   "id": "743dfa57",
   "metadata": {},
   "source": [
    "# Data Wrangling 2.1"
   ]
  },
  {
   "cell_type": "code",
   "execution_count": 2,
   "id": "4d9595be",
   "metadata": {},
   "outputs": [],
   "source": [
    "import math\n",
    "import numpy as np\n",
    "import pandas as pd\n",
    "\n",
    "import psycopg2\n",
    "\n",
    "import json\n",
    "\n",
    "import csv\n",
    "\n",
    "from datetime import datetime as dt\n",
    "\n",
    "from IPython.display import display, HTML\n"
   ]
  },
  {
   "cell_type": "code",
   "execution_count": 3,
   "id": "43f07822",
   "metadata": {},
   "outputs": [],
   "source": [
    "connection = psycopg2.connect(\n",
    "    user = \"postgres\",\n",
    "    password = \"ucb\",\n",
    "    host = \"postgres\",\n",
    "    port = \"5432\",\n",
    "    database = \"postgres\"\n",
    ")"
   ]
  },
  {
   "cell_type": "code",
   "execution_count": 4,
   "id": "4eec2801",
   "metadata": {},
   "outputs": [],
   "source": [
    "cursor = connection.cursor()"
   ]
  },
  {
   "cell_type": "code",
   "execution_count": 5,
   "id": "e1ad94b2",
   "metadata": {},
   "outputs": [],
   "source": [
    "#\n",
    "# function to run a select query and return rows in a pandas dataframe\n",
    "# pandas puts all numeric values from postgres to float\n",
    "# if it will fit in an integer, change it to integer\n",
    "#\n",
    "\n",
    "def my_select_query_pandas(query, rollback_before_flag, rollback_after_flag):\n",
    "    \"function to run a select query and return rows in a pandas dataframe\"\n",
    "    \n",
    "    if rollback_before_flag:\n",
    "        connection.rollback()\n",
    "    \n",
    "    df = pd.read_sql_query(query, connection)\n",
    "    \n",
    "    if rollback_after_flag:\n",
    "        connection.rollback()\n",
    "    \n",
    "    # fix the float columns that really should be integers\n",
    "    \n",
    "    for column in df:\n",
    "    \n",
    "        if df[column].dtype == \"float64\":\n",
    "\n",
    "            fraction_flag = False\n",
    "\n",
    "            for value in df[column].values:\n",
    "                \n",
    "                if not np.isnan(value):\n",
    "                    if value - math.floor(value) != 0:\n",
    "                        fraction_flag = True\n",
    "\n",
    "            if not fraction_flag:\n",
    "                df[column] = df[column].astype('Int64')\n",
    "    \n",
    "    return(df)\n",
    "    "
   ]
  },
  {
   "cell_type": "markdown",
   "id": "93acc225",
   "metadata": {},
   "source": [
    "# Lab: Data Extraction"
   ]
  },
  {
   "cell_type": "markdown",
   "id": "ba98d4ce",
   "metadata": {},
   "source": [
    "## So far, we have done several data extractions:\n",
    "\n",
    "* extracting database tables to csv format\n",
    "* extracting database tables to flat json format\n",
    "* extracting flat json files to csv format\n",
    "* extracting database tables to nested json format\n",
    "* extracting nested json files to csv format\n",
    "* extracting database tables to Excel workbooks with several work sheets\n",
    "* extracting Excel workbooks with several work sheets to csv format"
   ]
  },
  {
   "cell_type": "markdown",
   "id": "5b133850",
   "metadata": {},
   "source": [
    "## Last week, we extracted our temp database tables into the stores nested json file; we will now extract our temp database tables starting with sales at the top and perform some more complicated transformations as part of the extract"
   ]
  },
  {
   "cell_type": "code",
   "execution_count": 6,
   "id": "9675e946",
   "metadata": {},
   "outputs": [],
   "source": [
    "def my_extract_sales_nested_json(file_name):\n",
    "    \"extract nested json with sales at the top level to the file\"\n",
    "    \n",
    "    connection.rollback()\n",
    "    \n",
    "    file_json = {\"creator\": \"Acme Gourmet Meals\",\n",
    "                  \"timestamp\": dt.now().strftime(\"%Y-%d-%m %H:%M:%S\"),\n",
    "                  \"file_name\": file_name, \n",
    "                  \"version\": \"12.4.7\",\n",
    "                  \"legal\": \"Unauthorized use, duplication, or possession, blah, blah\",\n",
    "                  \"sales\": []\n",
    "                }\n",
    "        \n",
    "    query = \"\"\"\n",
    "    \n",
    "    select row_to_json(a)\n",
    "    from (select store_id,\n",
    "                 sale_id,\n",
    "                 customer_id,\n",
    "                 (lpad(store_id::text, 3, '0') || '-' || lpad(sale_id::text, 9, '0')) as receipt_number,\n",
    "                 sale_date,\n",
    "                 total_amount as sub_total,\n",
    "                 0 as tax,\n",
    "                 total_amount\n",
    "          from temp_sales\n",
    "          order by store_id, sale_id\n",
    "          ) as a\n",
    "           \n",
    "    \"\"\"\n",
    "    \n",
    "    cursor.execute(query)\n",
    "    \n",
    "    connection.rollback()\n",
    "\n",
    "    sale_rows = cursor.fetchall()\n",
    "    \n",
    "    sale_list_json = []\n",
    "    \n",
    "    for sale in sale_rows:\n",
    "        \n",
    "        sale_json = sale[0]\n",
    "        store_id = sale_json['store_id']\n",
    "        sale_id = sale_json['sale_id']\n",
    "        customer_id = sale_json['customer_id']\n",
    "        \n",
    "        del sale_json['store_id']\n",
    "        del sale_json['sale_id']\n",
    "        del sale_json['customer_id']\n",
    "                \n",
    "            \n",
    "        query = \"\"\"\n",
    "\n",
    "            select row_to_json(a)\n",
    "            from (select *\n",
    "                  from temp_stores\n",
    "                  where store_id = %s\n",
    "                  ) as a\n",
    "\n",
    "        \"\"\"\n",
    "            \n",
    "        cursor.execute(query, (store_id,))\n",
    "    \n",
    "        connection.rollback()\n",
    "        \n",
    "        store_row = cursor.fetchone()\n",
    "        \n",
    "        store_json = store_row[0]\n",
    "        \n",
    "        sale_json['store'] = store_json\n",
    "            \n",
    "            \n",
    "        query = \"\"\"\n",
    "\n",
    "            select row_to_json(a)\n",
    "            from (select customer_id,\n",
    "                         cu.first_name,\n",
    "                         cu.last_name,\n",
    "                         (cu.first_name || ' ' || cu.last_name) as first_last_name,\n",
    "                         (cu.last_name || ', ' || cu.first_name) as last_first_name,\n",
    "                         cu.street,\n",
    "                         cu.city,\n",
    "                         cu.state,\n",
    "                         cu.zip,\n",
    "                         z.population,\n",
    "                         z.area,\n",
    "                         z.density,\n",
    "                         cu.closest_store_id,\n",
    "                         cu.distance\n",
    "                  from temp_customers as cu\n",
    "                       join zip_codes as z\n",
    "                           on z.zip = cu.zip\n",
    "                  where customer_id = %s\n",
    "                  ) as a\n",
    "\n",
    "        \"\"\"\n",
    "            \n",
    "        cursor.execute(query, (customer_id,))\n",
    "    \n",
    "        connection.rollback()\n",
    "        \n",
    "        customer_row = cursor.fetchone()\n",
    "        \n",
    "        customer_json = customer_row[0]\n",
    "        \n",
    "        sale_json['customer'] = customer_json\n",
    "        \n",
    "        \n",
    "        \n",
    "        line_item_list_json = []\n",
    "            \n",
    "        query = \"\"\"\n",
    "\n",
    "            select row_to_json(a)\n",
    "            from (select l.product_id,\n",
    "                         p.description,\n",
    "                         12 as price,\n",
    "                         l.quantity,\n",
    "                         12 * l.quantity as line_total\n",
    "                  from temp_line_items as l\n",
    "                       join products as p\n",
    "                           on l.product_id = p.product_id\n",
    "                  where store_id = %s and sale_id = %s \n",
    "                  order by store_id, sale_id, line_item_id\n",
    "                  ) as a\n",
    "\n",
    "        \"\"\"\n",
    "\n",
    "        cursor.execute(query, (store_id, sale_id))\n",
    "    \n",
    "        connection.rollback()\n",
    "        \n",
    "        line_item_rows = cursor.fetchall()\n",
    "        \n",
    "        line_item_list_json = []\n",
    "            \n",
    "        for line_item_row in line_item_rows:\n",
    "                \n",
    "            line_item_json = line_item_row[0]\n",
    "            \n",
    "            line_item_list_json.append(line_item_json)\n",
    "            \n",
    "        sale_json['line_items'] = line_item_list_json\n",
    "             \n",
    "    \n",
    "        file_json['sales'].append(sale_json)\n",
    "    \n",
    "        \n",
    "    f = open(file_name, \"w\")\n",
    "    \n",
    "    json.dump(file_json, f, indent=2)\n",
    "\n",
    "    f.close()  "
   ]
  },
  {
   "cell_type": "code",
   "execution_count": 7,
   "id": "c19a0f25",
   "metadata": {},
   "outputs": [
    {
     "ename": "UndefinedTable",
     "evalue": "relation \"temp_sales\" does not exist\nLINE 12:           from temp_sales\n                        ^\n",
     "output_type": "error",
     "traceback": [
      "\u001b[0;31m---------------------------------------------------------------------------\u001b[0m",
      "\u001b[0;31mUndefinedTable\u001b[0m                            Traceback (most recent call last)",
      "\u001b[0;32m<ipython-input-7-d1e3834637f5>\u001b[0m in \u001b[0;36m<module>\u001b[0;34m\u001b[0m\n\u001b[0;32m----> 1\u001b[0;31m \u001b[0mmy_extract_sales_nested_json\u001b[0m\u001b[0;34m(\u001b[0m\u001b[0;34m\"temp_sales_nested.json\"\u001b[0m\u001b[0;34m)\u001b[0m\u001b[0;34m\u001b[0m\u001b[0;34m\u001b[0m\u001b[0m\n\u001b[0m",
      "\u001b[0;32m<ipython-input-6-a1573dde1b75>\u001b[0m in \u001b[0;36mmy_extract_sales_nested_json\u001b[0;34m(file_name)\u001b[0m\n\u001b[1;32m     29\u001b[0m     \"\"\"\n\u001b[1;32m     30\u001b[0m \u001b[0;34m\u001b[0m\u001b[0m\n\u001b[0;32m---> 31\u001b[0;31m     \u001b[0mcursor\u001b[0m\u001b[0;34m.\u001b[0m\u001b[0mexecute\u001b[0m\u001b[0;34m(\u001b[0m\u001b[0mquery\u001b[0m\u001b[0;34m)\u001b[0m\u001b[0;34m\u001b[0m\u001b[0;34m\u001b[0m\u001b[0m\n\u001b[0m\u001b[1;32m     32\u001b[0m \u001b[0;34m\u001b[0m\u001b[0m\n\u001b[1;32m     33\u001b[0m     \u001b[0mconnection\u001b[0m\u001b[0;34m.\u001b[0m\u001b[0mrollback\u001b[0m\u001b[0;34m(\u001b[0m\u001b[0;34m)\u001b[0m\u001b[0;34m\u001b[0m\u001b[0;34m\u001b[0m\u001b[0m\n",
      "\u001b[0;31mUndefinedTable\u001b[0m: relation \"temp_sales\" does not exist\nLINE 12:           from temp_sales\n                        ^\n"
     ]
    }
   ],
   "source": [
    "my_extract_sales_nested_json(\"temp_sales_nested.json\")"
   ]
  },
  {
   "cell_type": "markdown",
   "id": "2b3680da",
   "metadata": {},
   "source": [
    "## Use recursion to print nested json to show the structure"
   ]
  },
  {
   "cell_type": "code",
   "execution_count": null,
   "id": "c7f7470b",
   "metadata": {},
   "outputs": [],
   "source": [
    "def my_recursive_print_json(j, level = -1):\n",
    "    \"given a json object print it\"\n",
    "    \n",
    "    level += 1\n",
    "    \n",
    "    spaces = \"    \"\n",
    "    \n",
    "    if type(j) is dict:\n",
    "        dict_2_list = list(j.keys())\n",
    "        for k in dict_2_list:\n",
    "            print(spaces * level + k)\n",
    "            my_recursive_print_json(j[k], level)\n",
    "            \n",
    "    elif type(j) is list:\n",
    "        for (i, l) in enumerate(j):\n",
    "            print(spaces * level + \"[\" + str(i) + \"]\")\n",
    "            my_recursive_print_json(l, level)\n",
    "                  \n",
    "    else:\n",
    "        print(spaces * level + \"value:\", str(j))\n",
    "                  \n"
   ]
  },
  {
   "cell_type": "code",
   "execution_count": null,
   "id": "a4584580",
   "metadata": {},
   "outputs": [],
   "source": [
    "def my_read_nested_json(file_name):\n",
    "    \"given a file of json, read it and parse it meaningfully\"\n",
    "    \n",
    "    f = open(file_name, \"r\")\n",
    "    \n",
    "    j = json.load(f)\n",
    "    \n",
    "    f.close\n",
    "    \n",
    "    my_recursive_print_json(j)"
   ]
  },
  {
   "cell_type": "code",
   "execution_count": null,
   "id": "b1e159d4",
   "metadata": {},
   "outputs": [],
   "source": [
    "my_read_nested_json(\"temp_sales_nested.json\")"
   ]
  },
  {
   "cell_type": "markdown",
   "id": "78616ea7",
   "metadata": {},
   "source": [
    "## You try it - extract our temp database tables into the customer nested json file, temp_customers_nested.json, which we looked at last week; some hints:\n",
    "\n",
    "* customer:\n",
    " * create a derived column first_last_name \n",
    " * create a derived column last_first_name\n",
    " * join the temp_customers table to the zip_codes table to pull the population, area, and density\n",
    "* sale:\n",
    " * receipt_number is a derived column made up of store_id and sale_id\n",
    " * since we don't have sales tax on food, sub_total is the total_amount and tax is 0\n",
    "* line items:\n",
    " * 12 is the price since all meals cost $12 tax included\n",
    " * 12 * quantity is the line_total"
   ]
  },
  {
   "cell_type": "markdown",
   "id": "ba7769d9",
   "metadata": {},
   "source": [
    "# Lab: Creating Staging Tables, Loading Raw Data into Staging Tables"
   ]
  },
  {
   "cell_type": "code",
   "execution_count": null,
   "id": "fb3f15d2",
   "metadata": {},
   "outputs": [],
   "source": [
    "connection.rollback()\n",
    "\n",
    "query = \"\"\"\n",
    "\n",
    "drop table if exists stage_1_customers;\n",
    "drop table if exists stage_1_sales;\n",
    "drop table if exists stage_1_line_items;\n",
    "\n",
    "\n",
    "\n",
    "\"\"\"\n",
    "\n",
    "cursor.execute(query)\n",
    "\n",
    "connection.commit()\n",
    "\n"
   ]
  },
  {
   "cell_type": "markdown",
   "id": "f421117d",
   "metadata": {},
   "source": [
    "## Using varchar(100) for all columns so data out of format will load so we can clean it"
   ]
  },
  {
   "cell_type": "code",
   "execution_count": null,
   "id": "bcfb36ec",
   "metadata": {},
   "outputs": [],
   "source": [
    "#\n",
    "# create staging tables with all varchar(100)\n",
    "#\n",
    "\n",
    "connection.rollback()\n",
    "\n",
    "query = \"\"\"\n",
    "\n",
    "\n",
    "create table stage_1_customers (\n",
    "  stage_id serial,\n",
    "  customer_id varchar(100),\n",
    "  first_name varchar(100),\n",
    "  last_name varchar(100),\n",
    "  street varchar(100),\n",
    "  city varchar(100),\n",
    "  state varchar(100),\n",
    "  zip varchar(100),\n",
    "  closest_store_id varchar(100),\n",
    "  distance varchar(100)\n",
    ");\n",
    "\n",
    "create table stage_1_sales (\n",
    "  stage_id serial,\n",
    "  store_id varchar(100),\n",
    "  sale_id varchar(100),\n",
    "  customer_id varchar(100),\n",
    "  sale_date varchar(100),\n",
    "  total_amount varchar(100)\n",
    ");\n",
    "\n",
    "create table stage_1_line_items (\n",
    "  stage_id serial,\n",
    "  store_id varchar(100),\n",
    "  sale_id varchar(100),\n",
    "  line_item_id varchar(100),\n",
    "  product_id varchar(100),\n",
    "  quantity varchar(100)\n",
    ");\n",
    "\n",
    "\"\"\"\n",
    "\n",
    "cursor.execute(query)\n",
    "\n",
    "connection.commit()\n",
    "\n"
   ]
  },
  {
   "cell_type": "code",
   "execution_count": 1,
   "id": "e9ea1b6b",
   "metadata": {},
   "outputs": [
    {
     "ename": "NameError",
     "evalue": "name 'connection' is not defined",
     "output_type": "error",
     "traceback": [
      "\u001b[0;31m---------------------------------------------------------------------------\u001b[0m",
      "\u001b[0;31mNameError\u001b[0m                                 Traceback (most recent call last)",
      "\u001b[0;32m<ipython-input-1-bc3cb823fd26>\u001b[0m in \u001b[0;36m<module>\u001b[0;34m\u001b[0m\n\u001b[0;32m----> 1\u001b[0;31m \u001b[0mconnection\u001b[0m\u001b[0;34m.\u001b[0m\u001b[0mrollback\u001b[0m\u001b[0;34m(\u001b[0m\u001b[0;34m)\u001b[0m\u001b[0;34m\u001b[0m\u001b[0;34m\u001b[0m\u001b[0m\n\u001b[0m\u001b[1;32m      2\u001b[0m \u001b[0;34m\u001b[0m\u001b[0m\n\u001b[1;32m      3\u001b[0m query = \"\"\"\n\u001b[1;32m      4\u001b[0m \u001b[0;34m\u001b[0m\u001b[0m\n\u001b[1;32m      5\u001b[0m \u001b[0mcopy\u001b[0m \u001b[0mstage_1_customers\u001b[0m \u001b[0;34m(\u001b[0m\u001b[0mcustomer_id\u001b[0m\u001b[0;34m,\u001b[0m \u001b[0mfirst_name\u001b[0m\u001b[0;34m,\u001b[0m \u001b[0mlast_name\u001b[0m\u001b[0;34m,\u001b[0m \u001b[0mstreet\u001b[0m\u001b[0;34m,\u001b[0m \u001b[0mcity\u001b[0m\u001b[0;34m,\u001b[0m \u001b[0mstate\u001b[0m\u001b[0;34m,\u001b[0m \u001b[0mzip\u001b[0m\u001b[0;34m,\u001b[0m \u001b[0mclosest_store_id\u001b[0m\u001b[0;34m,\u001b[0m \u001b[0mdistance\u001b[0m\u001b[0;34m)\u001b[0m\u001b[0;34m\u001b[0m\u001b[0;34m\u001b[0m\u001b[0m\n",
      "\u001b[0;31mNameError\u001b[0m: name 'connection' is not defined"
     ]
    }
   ],
   "source": [
    "connection.rollback()\n",
    "\n",
    "query = \"\"\"\n",
    "\n",
    "copy stage_1_customers (customer_id, first_name, last_name, street, city, state, zip, closest_store_id, distance)\n",
    "from '/user/labs/week_07/clean_data/clean_customers.csv' delimiter ',' NULL '' csv header;\n",
    "\n",
    "\"\"\"\n",
    "\n",
    "cursor.execute(query)\n",
    "\n",
    "connection.commit()"
   ]
  },
  {
   "cell_type": "code",
   "execution_count": null,
   "id": "8d11fedd",
   "metadata": {},
   "outputs": [],
   "source": [
    "rollback_before_flag = True\n",
    "rollback_after_flag = True\n",
    "\n",
    "query = \"\"\"\n",
    "\n",
    "select * \n",
    "from stage_1_customers\n",
    "order by stage_id;\n",
    "\n",
    "\"\"\"\n",
    "\n",
    "my_select_query_pandas(query, rollback_before_flag, rollback_after_flag)"
   ]
  },
  {
   "cell_type": "markdown",
   "id": "1b5e22b3",
   "metadata": {},
   "source": [
    "## You try it - load the stage_1_sales table from the csv file clean_sales.csv;  load the stage_1_line_items table from the csv file clean_line_items.csv; verify each with a query"
   ]
  },
  {
   "cell_type": "markdown",
   "id": "bcdf2898",
   "metadata": {},
   "source": [
    "# Lab: Raw Data Exploration Using Staging Tables"
   ]
  },
  {
   "cell_type": "markdown",
   "id": "2bd89427",
   "metadata": {},
   "source": [
    "## Given a table, query the column names;  for each column, find max length, min length, max value, min value, how distinct is the column; etc;"
   ]
  },
  {
   "cell_type": "code",
   "execution_count": null,
   "id": "fc7ef817",
   "metadata": {},
   "outputs": [],
   "source": [
    "def my_explore_staging_table(table_name):\n",
    "    \"given a table name, explore it\"\n",
    "    \n",
    "    print(\"\\n---------------------------------------------------\")\n",
    "    print(\"Exploring Columns for Table:\", table_name)\n",
    "    print(\"---------------------------------------------------\\n\")\n",
    "    \n",
    "    rollback_before_flag = True\n",
    "    rollback_after_flag = True\n",
    "    \n",
    "    connection.rollback()\n",
    "    \n",
    "    query = \"select * from \" + table_name + \" where 0 = 1;\"\n",
    "    \n",
    "    cursor.execute(query)\n",
    "\n",
    "    connection.rollback()    \n",
    "\n",
    "    column_list = [d[0] for d in cursor.description]\n",
    "    \n",
    "    for column_name in column_list:\n",
    "        \n",
    "        if column_name == \"stage_id\":\n",
    "            continue;\n",
    "        \n",
    "        print(\"---------------------------------------------------\")\n",
    "        print(\"Column:\", column_name)\n",
    "        print(\"---------------------------------------------------\")\n",
    "\n",
    "        \n",
    "        query = \"select min(length(\" + column_name + \")) as min_length, \"\n",
    "        query += \" max(length(\" + column_name + \")) as max_length, \"\n",
    "        query += \" count(*) as total_rows, \"\n",
    "        query += \" count(distinct \" + column_name + \") as total_distinct_values\"\n",
    "        query += \" from \" + table_name + \";\"\n",
    "        \n",
    "        df = my_select_query_pandas(query, rollback_before_flag, rollback_after_flag)\n",
    "        \n",
    "        display(HTML(df.to_html()))\n",
    "        \n",
    "        query = \"select \" + column_name + \", count(*) from \" + table_name \n",
    "        query += \" group by \" + column_name + \" order by 2 desc limit 10;\"\n",
    "        \n",
    "        df = my_select_query_pandas(query, rollback_before_flag, rollback_after_flag)\n",
    "        \n",
    "        display(HTML(df.to_html()))\n",
    "    "
   ]
  },
  {
   "cell_type": "code",
   "execution_count": null,
   "id": "e0e150bd",
   "metadata": {},
   "outputs": [],
   "source": [
    "my_explore_staging_table(\"stage_1_customers\")"
   ]
  },
  {
   "cell_type": "markdown",
   "id": "4b39ddcc",
   "metadata": {},
   "source": [
    "## In the coming labs for this week, we will do further exploration to clean the data as we go"
   ]
  },
  {
   "cell_type": "markdown",
   "id": "34864421",
   "metadata": {},
   "source": [
    "## You try it - using the above function my_explore_staging_table(), explore the tables stage_1_sales and stage_1_line_items"
   ]
  },
  {
   "cell_type": "markdown",
   "id": "32948afb",
   "metadata": {},
   "source": [
    "# Lab: Transforming Data by Parsing, Joining, Augmenting, Consolidating, and Filtering"
   ]
  },
  {
   "cell_type": "markdown",
   "id": "e2314e97",
   "metadata": {},
   "source": [
    "## In our extractions so far, we have seen examples of Parsing, Joining, Augmenting, Consolidating, and Filtering:"
   ]
  },
  {
   "cell_type": "markdown",
   "id": "e0e508c8",
   "metadata": {},
   "source": [
    "## Parsing\n",
    "\n",
    "* created a receipt_id from store_id and sale_id\n",
    "* extracting the date to a dow number\n",
    "* extracting the date to a day of week string\n",
    "* extracting the date to a month string\n",
    "* creating first and last name in the same column, also with last name first"
   ]
  },
  {
   "cell_type": "markdown",
   "id": "20f5dd79",
   "metadata": {},
   "source": [
    "## Joining\n",
    "\n",
    "* joining the stores table to the sales table\n",
    "* joining the sales table to the customers table\n",
    "* joining the sales table to the line items table\n",
    "* joining the line items table to the products table"
   ]
  },
  {
   "cell_type": "markdown",
   "id": "dee768be",
   "metadata": {},
   "source": [
    "## Augmenting (joining to a table in a secondary dataset)\n",
    "\n",
    "* joining the zip in customer table to the secondary dataset table zip_codes to pull the population, area, and density"
   ]
  },
  {
   "cell_type": "markdown",
   "id": "731d2b64",
   "metadata": {},
   "source": [
    "## Consolidating (Aggregation)\n",
    "\n",
    "* number of rows in a table\n",
    "* number of disctince rows in a table\n",
    "* max value of a column\n",
    "* min value of a column\n",
    "* average value of a column"
   ]
  },
  {
   "cell_type": "markdown",
   "id": "cfcc1626",
   "metadata": {},
   "source": [
    "## Filtering\n",
    "\n",
    "* where clauses (pre-aggregation)\n",
    "* having clauses (post-aggregation)\n"
   ]
  },
  {
   "cell_type": "markdown",
   "id": "4c1bf56e",
   "metadata": {},
   "source": [
    "## Once data is clean, we can create another staging table with actual data types and copy "
   ]
  },
  {
   "cell_type": "code",
   "execution_count": null,
   "id": "9ceb8218",
   "metadata": {},
   "outputs": [],
   "source": [
    "connection.rollback()\n",
    "\n",
    "query = \"\"\"\n",
    "\n",
    "drop table if exists stage_2_customers;\n",
    "drop table if exists stage_2_sales;\n",
    "drop table if exists stage_2_line_items;\n",
    "\n",
    "\"\"\"\n",
    "\n",
    "cursor.execute(query)\n",
    "\n",
    "connection.commit()\n",
    "\n"
   ]
  },
  {
   "cell_type": "code",
   "execution_count": null,
   "id": "e7a4fa81",
   "metadata": {},
   "outputs": [],
   "source": [
    "connection.rollback()\n",
    "\n",
    "query = \"\"\"\n",
    "\n",
    "\n",
    "create table stage_2_customers (\n",
    "  stage_id serial,\n",
    "  customer_id numeric(6),\n",
    "  first_name varchar(32),\n",
    "  last_name varchar(32),\n",
    "  street varchar(32),\n",
    "  city varchar(32),\n",
    "  state varchar(2),\n",
    "  zip varchar(5),\n",
    "  closest_store_id numeric(6),\n",
    "  distance numeric(3)\n",
    ");\n",
    "\n",
    "create table stage_2_sales (\n",
    "  stage_id serial,\n",
    "  store_id numeric(6),\n",
    "  sale_id numeric(8),\n",
    "  customer_id numeric(6),\n",
    "  sale_date date,\n",
    "  total_amount numeric(5)\n",
    ");\n",
    "\n",
    "create table stage_2_line_items (\n",
    "  stage_id serial,\n",
    "  store_id numeric(6),\n",
    "  sale_id numeric(8),\n",
    "  line_item_id numeric(3),\n",
    "  product_id numeric(3),\n",
    "  quantity numeric(3)\n",
    ");\n",
    "\n",
    "\"\"\"\n",
    "\n",
    "cursor.execute(query)\n",
    "\n",
    "connection.commit()\n",
    "\n"
   ]
  },
  {
   "cell_type": "code",
   "execution_count": null,
   "id": "6888e393",
   "metadata": {},
   "outputs": [],
   "source": [
    "connection.rollback()\n",
    "\n",
    "query = \"\"\"\n",
    "\n",
    "insert into stage_2_customers\n",
    "(stage_id, customer_id, first_name, last_name, street, city, state, zip, closest_store_id, distance)\n",
    "select stage_id,\n",
    "       customer_id::numeric,\n",
    "       first_name,\n",
    "       last_name, \n",
    "       street,\n",
    "       city,\n",
    "       state,\n",
    "       zip,\n",
    "       closest_store_id::numeric,\n",
    "       distance::numeric\n",
    "from stage_1_customers\n",
    "order by stage_id;\n",
    "\n",
    "\"\"\"\n",
    "\n",
    "cursor.execute(query)\n",
    "\n",
    "connection.commit()\n",
    "\n"
   ]
  },
  {
   "cell_type": "code",
   "execution_count": null,
   "id": "97228db0",
   "metadata": {
    "scrolled": true
   },
   "outputs": [],
   "source": [
    "rollback_before_flag = True\n",
    "rollback_after_flag = True\n",
    "\n",
    "query = \"\"\"\n",
    "\n",
    "select * \n",
    "from stage_2_customers\n",
    "order by stage_id;\n",
    "\n",
    "\"\"\"\n",
    "\n",
    "my_select_query_pandas(query, rollback_before_flag, rollback_after_flag)"
   ]
  },
  {
   "cell_type": "markdown",
   "id": "caa72131",
   "metadata": {},
   "source": [
    "## You try it - copy data from stage_1_sales to stage_2_sales and from stage_1_line_items to stage_2_line_items; query to verify"
   ]
  }
 ],
 "metadata": {
  "kernelspec": {
   "display_name": "Python 3",
   "language": "python",
   "name": "python3"
  },
  "language_info": {
   "codemirror_mode": {
    "name": "ipython",
    "version": 3
   },
   "file_extension": ".py",
   "mimetype": "text/x-python",
   "name": "python",
   "nbconvert_exporter": "python",
   "pygments_lexer": "ipython3",
   "version": "3.8.8"
  }
 },
 "nbformat": 4,
 "nbformat_minor": 5
}
